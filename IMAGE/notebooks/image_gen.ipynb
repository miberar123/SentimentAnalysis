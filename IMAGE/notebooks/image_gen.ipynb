{
 "cells": [
  {
   "cell_type": "markdown",
   "metadata": {},
   "source": [
    "# Image Augmentation/Generation"
   ]
  },
  {
   "cell_type": "code",
   "execution_count": null,
   "metadata": {},
   "outputs": [],
   "source": [
    "import os\n",
    "\n",
    "import tensorflow as tf\n",
    "from tqdm import tqdm"
   ]
  },
  {
   "cell_type": "markdown",
   "metadata": {},
   "source": [
    "Load directories"
   ]
  },
  {
   "cell_type": "code",
   "execution_count": null,
   "metadata": {},
   "outputs": [],
   "source": [
    "base_dir = \"IMAGE/data\"\n",
    "train_dir = os.path.join(base_dir, \"train\")\n",
    "validation_dir = os.path.join(base_dir, \"validation\")\n",
    "test_dir = os.path.join(base_dir, \"test\")"
   ]
  },
  {
   "cell_type": "markdown",
   "metadata": {},
   "source": [
    "Instantiate the image generator"
   ]
  },
  {
   "cell_type": "code",
   "execution_count": null,
   "metadata": {},
   "outputs": [],
   "source": [
    "train_datagen = tf.keras.preprocessing.image.ImageDataGenerator(\n",
    "    rescale=1.0 / 255,\n",
    "    rotation_range=40,\n",
    "    width_shift_range=0.2,\n",
    "    height_shift_range=0.2,\n",
    "    shear_range=0.2,\n",
    "    zoom_range=0.2,\n",
    "    horizontal_flip=True,\n",
    "    fill_mode=\"nearest\",\n",
    ")\n",
    "\n",
    "test_datagen = tf.keras.preprocessing.image.ImageDataGenerator(rescale=1.0 / 255)"
   ]
  },
  {
   "cell_type": "markdown",
   "metadata": {},
   "source": [
    "Load the data into the instances of the generator"
   ]
  },
  {
   "cell_type": "code",
   "execution_count": null,
   "metadata": {},
   "outputs": [],
   "source": [
    "\n",
    "train_generator = train_datagen.flow_from_directory(\n",
    "    train_dir, target_size=(150, 150), batch_size=32, class_mode=\"categorical\"\n",
    ")\n",
    "\n",
    "validation_generator = test_datagen.flow_from_directory(\n",
    "    validation_dir, target_size=(150, 150), batch_size=32, class_mode=\"categorical\"\n",
    ")\n"
   ]
  },
  {
   "cell_type": "markdown",
   "metadata": {},
   "source": [
    "Export images"
   ]
  },
  {
   "cell_type": "code",
   "execution_count": null,
   "metadata": {},
   "outputs": [],
   "source": [
    "def save_augmented_images_by_class(generator, base_save_dir, num_images=1000):\n",
    "\n",
    "    class_indices = generator.class_indices\n",
    "    class_names = list(class_indices.keys())\n",
    "\n",
    "    os.makedirs(base_save_dir, exist_ok=True)\n",
    "\n",
    "    for class_name in class_names:\n",
    "        os.makedirs(os.path.join(base_save_dir, class_name), exist_ok=True)\n",
    "\n",
    "    for i, (imgs, labels) in tqdm(\n",
    "        enumerate(generator), total=num_images, desc=\"Saving images\"\n",
    "    ):\n",
    "        if i >= num_images:\n",
    "            break\n",
    "    for img, label in zip(imgs, labels):\n",
    "        class_name = class_names[label.argmax()]\n",
    "        save_path = os.path.join(base_save_dir, class_name, f\"augmented_{i}.png\")\n",
    "        tf.keras.utils.save_img(save_path, img)\n",
    "\n",
    "\n",
    "augmented_train_save_dir = os.path.join(base_dir, \"augmented/train\")\n",
    "save_augmented_images_by_class(train_generator, augmented_train_save_dir)"
   ]
  }
 ],
 "metadata": {
  "language_info": {
   "name": "python"
  }
 },
 "nbformat": 4,
 "nbformat_minor": 2
}
